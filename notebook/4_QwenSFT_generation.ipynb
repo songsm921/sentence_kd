{
 "cells": [
  {
   "cell_type": "code",
   "execution_count": 1,
   "metadata": {},
   "outputs": [
    {
     "name": "stderr",
     "output_type": "stream",
     "text": [
      "/root/anaconda3/envs/difficulty/lib/python3.10/site-packages/tqdm/auto.py:21: TqdmWarning: IProgress not found. Please update jupyter and ipywidgets. See https://ipywidgets.readthedocs.io/en/stable/user_install.html\n",
      "  from .autonotebook import tqdm as notebook_tqdm\n"
     ]
    }
   ],
   "source": [
    "import transformers\n",
    "from datasets import load_dataset\n",
    "import torch\n",
    "import random"
   ]
  },
  {
   "cell_type": "code",
   "execution_count": 2,
   "metadata": {},
   "outputs": [
    {
     "name": "stderr",
     "output_type": "stream",
     "text": [
      "Loading checkpoint shards: 100%|██████████| 7/7 [00:57<00:00,  8.24s/it]\n"
     ]
    }
   ],
   "source": [
    "model_path = \"/mnt/cephfs/sumin/sentence_kd/sft/ckpts/s1-difficulty-before-think\"\n",
    "# model_path = \"/mnt/cephfs/echoi/models/Qwen2.5-Math-7B/\"\n",
    "# model_path = \"/mnt/cephfs/echoi/models/Qwen2.5-7B-Instruct/\"\n",
    "config = transformers.AutoConfig.from_pretrained(model_path)\n",
    "# config.use_sliding_window = True\n",
    "model = transformers.AutoModelForCausalLM.from_pretrained(\n",
    "        model_path,\n",
    "        config=config,\n",
    "        attn_implementation='flash_attention_2',\n",
    "        torch_dtype=torch.bfloat16,\n",
    "        device_map=\"auto\" \n",
    ")\n",
    "tokenizer = transformers.AutoTokenizer.from_pretrained(\n",
    "        model_path\n",
    ")"
   ]
  },
  {
   "cell_type": "code",
   "execution_count": 3,
   "metadata": {},
   "outputs": [
    {
     "name": "stderr",
     "output_type": "stream",
     "text": [
      "Generating test split: 100%|██████████| 4428/4428 [00:00<00:00, 66980.83 examples/s]\n"
     ]
    }
   ],
   "source": [
    "# dataset = load_dataset(\"HuggingFaceH4/MATH-500\")\n",
    "# dataset = load_dataset(\"garage-bAInd/Open-Platypus\")\n",
    "# dataset = load_dataset(\"Maxwell-Jia/AIME_2024\")\n",
    "dataset = load_dataset(\"KbsdJames/Omni-MATH\")"
   ]
  },
  {
   "cell_type": "code",
   "execution_count": 4,
   "metadata": {},
   "outputs": [
    {
     "data": {
      "text/plain": [
       "DatasetDict({\n",
       "    test: Dataset({\n",
       "        features: ['domain', 'difficulty', 'problem', 'solution', 'answer', 'source'],\n",
       "        num_rows: 4428\n",
       "    })\n",
       "})"
      ]
     },
     "execution_count": 4,
     "metadata": {},
     "output_type": "execute_result"
    }
   ],
   "source": [
    "dataset"
   ]
  },
  {
   "cell_type": "code",
   "execution_count": 14,
   "metadata": {},
   "outputs": [],
   "source": [
    "random_index = random.randint(0, len(dataset['test']['problem']))\n",
    "input_text = dataset['test']['problem'][89]\n"
   ]
  },
  {
   "cell_type": "code",
   "execution_count": 15,
   "metadata": {},
   "outputs": [
    {
     "data": {
      "text/plain": [
       "'Find the smallest positive integer $ K$ such that every $ K$-element subset of $ \\\\{1,2,...,50 \\\\}$ contains two distinct elements $ a,b$ such that $ a\\\\plus{}b$ divides $ ab$.'"
      ]
     },
     "execution_count": 15,
     "metadata": {},
     "output_type": "execute_result"
    }
   ],
   "source": [
    "input_text"
   ]
  },
  {
   "cell_type": "code",
   "execution_count": 16,
   "metadata": {},
   "outputs": [],
   "source": [
    "from transformers import StoppingCriteria, StoppingCriteriaList\n",
    "import re\n",
    "\n",
    "class FinalAnswerStoppingCriteria(StoppingCriteria):\n",
    "    def __init__(self, tokenizer, prompt_len):\n",
    "        super().__init__()\n",
    "        self.tokenizer = tokenizer\n",
    "        self.pattern = re.compile(r\"\\[\\s*Q\\s*\\]\")  # 정확히 [QED] 패턴 매칭\n",
    "        self.prompt_len = prompt_len  # 프롬프트 길이 저장\n",
    "\n",
    "    def __call__(self, input_ids, scores, **kwargs):\n",
    "        # 현재까지 생성된 전체 시퀀스에서 프롬프트 이후의 부분만 추출\n",
    "        generated_ids = input_ids[0][self.prompt_len:]\n",
    "        decoded = self.tokenizer.decode(generated_ids, skip_special_tokens=True)\n",
    "\n",
    "        return bool(self.pattern.search(decoded))\n"
   ]
  },
  {
   "cell_type": "code",
   "execution_count": 17,
   "metadata": {},
   "outputs": [],
   "source": [
    "system_prompt = \"\"\"\n",
    "You are Qwen, created by Alibaba Cloud. You are a helpful assistant.\n",
    "\"\"\"\n",
    "prefix_prompt = \"\"\"\n",
    "\"Rate the difficulty of this problem on a scale of 1-10 and include it at the beginning of your response. Example: Difficulty: 5/10\"\n",
    "\"\"\"\n",
    "def add_prefix_to_instruction(instruction):\n",
    "    return prefix_prompt + \"\\n\\n Q: \" + instruction + \"\\n\\n\"\n",
    "def add_suffix_to_instruction(instruction):\n",
    "    return \"Q: \" + instruction + \"\\n\" + prefix_prompt + \"\\n\\n\"\n",
    "prompted_instruction = add_prefix_to_instruction(input_text)\n",
    "message = [\n",
    "    {\"role\": \"system\", \"content\": system_prompt + \"\\n\" + prefix_prompt},\n",
    "    {\"role\": \"user\", \"content\": input_text}\n",
    "]\n",
    "\n",
    "text = tokenizer.apply_chat_template(\n",
    "    message,\n",
    "    tokenize = False,\n",
    "    add_generation_prompt = True\n",
    ")\n",
    "model_inputs = tokenizer([text], return_tensors='pt').to('cuda')\n",
    "\n",
    "stop_criteria = StoppingCriteriaList([\n",
    "    FinalAnswerStoppingCriteria(tokenizer, model_inputs['input_ids'].shape[1])\n",
    "])\n",
    "output = model.generate(\n",
    "                **model_inputs,\n",
    "                # attention_mask = inputs['attention_mask'],\n",
    "                max_new_tokens=512,\n",
    "                # early_stopping=True,\n",
    "                stopping_criteria=stop_criteria,\n",
    "                do_sample=True,\n",
    "                num_beams=1,\n",
    "                eos_token_id=None,\n",
    "            )"
   ]
  },
  {
   "cell_type": "code",
   "execution_count": 18,
   "metadata": {},
   "outputs": [
    {
     "data": {
      "text/markdown": [
       "system\n",
       "\n",
       "You are Qwen, created by Alibaba Cloud. You are a helpful assistant.\n",
       "\n",
       "\n",
       "\"Rate the difficulty of this problem on a scale of 1-10 and include it at the beginning of your response. Example: Difficulty: 5/10\"\n",
       "\n",
       "user\n",
       "Find the smallest positive integer $ K$ such that every $ K$-element subset of $ \\{1,2,...,50 \\}$ contains two distinct elements $ a,b$ such that $ a\\plus{}b$ divides $ ab$.\n",
       "assistant\n",
       "Difficulty: 7/10\n",
       "answer\n",
       "Let $S = \\{1, 2, ..., 50\\}$. We are looking for the smallest positive integer $K$ such that every $K$-element subset of $S$ contains two distinct elements $a, b$ such that $a+b$ divides $ab$.\n",
       "\n",
       "The condition $a+b \\mid ab$ is equivalent to $\\frac{ab}{a+b} = \\frac{ab}{a+b} \\cdot \\frac{a-b}{a-b} = \\frac{a^2 - b^2}{a+b} = \\frac{a^2}{a+b}$ if $a > b$, or $\\frac{b^2}{a+b}$ if $b > a$. This does not seem to simplify the problem much.\n",
       "\n",
       "Let's consider the condition $a+b \\mid ab$.\n",
       "If $a+b \\mid ab$, then $a+b \\mid (a+b) \\cdot \\frac{a}{a+b} \\cdot (a+b) = a^2 + ab - ab + b^2 = a^2 + b^2$.\n",
       "So $a+b \\mid a^2+b^2$.\n",
       "\n",
       "We can rewrite the condition as $ab = k(a+b)$ for some integer $k$.\n",
       "$ab - ka - kb = 0$\n",
       "$ab - ka - kb + k^2 = k^2$\n",
       "$(a-k)(b-k) = k^2$.\n",
       "\n",
       "Let $a-k = x$ and $b-k = y$, so $xy = k^2$, $a = x+k$, $b = y+k$.\n",
       "Since $a, b \\in S$, we have $1 \\le k+x \\le 50$ and $1 \\le k+y \\le 50$.\n",
       "\n",
       "Consider the case where $a=2x$ and $b=x$. Then $a+b = 3x$ and $ab = 2x^2$. The condition is $3x \\mid 2x^2$.\n",
       "$2x^2 = 2 \\cdot x \\cdot x = 3 \\cdot x \\cdot x$.\n",
       "If $x$ is even, let $x=2m$, then $2(2m)^2 = 8m^2$, $3(2m) = 6m$. $8m^2 / 6m = 4m"
      ],
      "text/plain": [
       "<IPython.core.display.Markdown object>"
      ]
     },
     "metadata": {},
     "output_type": "display_data"
    }
   ],
   "source": [
    "output_text = tokenizer.decode(output[0], skip_special_tokens=True)\n",
    "def format_response_with_line_breaks(response):\n",
    "    # Print the response with line breaks properly displayed\n",
    "    print(response)\n",
    "    \n",
    "    # If you need to save it to a file with proper formatting\n",
    "    with open(\"formatted_response.txt\", \"w\", encoding=\"utf-8\") as f:\n",
    "        f.write(response)\n",
    "    \n",
    "    # If you're in a Jupyter notebook, you can use display for HTML formatting\n",
    "    from IPython.display import display, HTML\n",
    "    formatted_html = response.replace(\"\\n\", \"<br>\")\n",
    "    display(HTML(f\"<div>{formatted_html}</div>\"))\n",
    "from IPython.display import Markdown\n",
    "def display_with_formatting(text):\n",
    "    display(Markdown(text))\n",
    "# format_response_with_line_breaks(output_text)\n",
    "display_with_formatting(output_text)"
   ]
  },
  {
   "cell_type": "code",
   "execution_count": 33,
   "metadata": {},
   "outputs": [
    {
     "data": {
      "text/plain": [
       "5"
      ]
     },
     "execution_count": 33,
     "metadata": {},
     "output_type": "execute_result"
    }
   ],
   "source": [
    "dataset['test']['level'][1]"
   ]
  },
  {
   "cell_type": "code",
   "execution_count": null,
   "metadata": {},
   "outputs": [],
   "source": []
  }
 ],
 "metadata": {
  "kernelspec": {
   "display_name": "difficulty",
   "language": "python",
   "name": "python3"
  },
  "language_info": {
   "codemirror_mode": {
    "name": "ipython",
    "version": 3
   },
   "file_extension": ".py",
   "mimetype": "text/x-python",
   "name": "python",
   "nbconvert_exporter": "python",
   "pygments_lexer": "ipython3",
   "version": "3.10.16"
  }
 },
 "nbformat": 4,
 "nbformat_minor": 2
}
