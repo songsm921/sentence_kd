{
 "cells": [
  {
   "cell_type": "code",
   "execution_count": 1,
   "metadata": {},
   "outputs": [
    {
     "name": "stderr",
     "output_type": "stream",
     "text": [
      "/root/anaconda3/envs/kd/lib/python3.10/site-packages/tqdm/auto.py:21: TqdmWarning: IProgress not found. Please update jupyter and ipywidgets. See https://ipywidgets.readthedocs.io/en/stable/user_install.html\n",
      "  from .autonotebook import tqdm as notebook_tqdm\n"
     ]
    }
   ],
   "source": [
    "import transformers\n",
    "from datasets import load_dataset\n",
    "import torch\n",
    "import random"
   ]
  },
  {
   "cell_type": "code",
   "execution_count": 2,
   "metadata": {},
   "outputs": [
    {
     "name": "stderr",
     "output_type": "stream",
     "text": [
      "Loading checkpoint shards: 100%|██████████| 4/4 [00:06<00:00,  1.63s/it]\n"
     ]
    }
   ],
   "source": [
    "model_path = \"/mnt/cephfs/sumin/model/Llama-3.1-8B-Instruct\"\n",
    "model = transformers.AutoModelForCausalLM.from_pretrained(\n",
    "        model_path,\n",
    "        torch_dtype=torch.bfloat16,\n",
    "        device_map=\"auto\" \n",
    ")\n",
    "tokenizer = transformers.AutoTokenizer.from_pretrained(\n",
    "        model_path\n",
    ")"
   ]
  },
  {
   "cell_type": "code",
   "execution_count": 14,
   "metadata": {},
   "outputs": [],
   "source": [
    "# dataset = load_dataset(\"HuggingFaceH4/MATH-500\")\n",
    "# dataset = load_dataset(\"Maxwell-Jia/AIME_2024\")\n",
    "dataset = load_dataset(\"garage-bAInd/Open-Platypus\")"
   ]
  },
  {
   "cell_type": "code",
   "execution_count": 15,
   "metadata": {},
   "outputs": [
    {
     "data": {
      "text/plain": [
       "DatasetDict({\n",
       "    train: Dataset({\n",
       "        features: ['input', 'output', 'instruction', 'data_source'],\n",
       "        num_rows: 24926\n",
       "    })\n",
       "})"
      ]
     },
     "execution_count": 15,
     "metadata": {},
     "output_type": "execute_result"
    }
   ],
   "source": [
    "dataset"
   ]
  },
  {
   "cell_type": "code",
   "execution_count": 16,
   "metadata": {},
   "outputs": [],
   "source": [
    "random_index = random.randint(0, len(dataset['train']['instruction']))\n",
    "input_text = dataset['train']['instruction'][1]\n"
   ]
  },
  {
   "cell_type": "code",
   "execution_count": 17,
   "metadata": {},
   "outputs": [],
   "source": [
    "from transformers import StoppingCriteria, StoppingCriteriaList\n",
    "import re\n",
    "\n",
    "class FinalAnswerStoppingCriteria(StoppingCriteria):\n",
    "    def __init__(self, tokenizer, prompt_len):\n",
    "        super().__init__()\n",
    "        self.tokenizer = tokenizer\n",
    "        self.pattern = re.compile(r\"\\[\\s*Q\\s*\\]\")  # 정확히 [QED] 패턴 매칭\n",
    "        self.prompt_len = prompt_len  # 프롬프트 길이 저장\n",
    "\n",
    "    def __call__(self, input_ids, scores, **kwargs):\n",
    "        # 현재까지 생성된 전체 시퀀스에서 프롬프트 이후의 부분만 추출\n",
    "        generated_ids = input_ids[0][self.prompt_len:]\n",
    "        decoded = self.tokenizer.decode(generated_ids, skip_special_tokens=True)\n",
    "\n",
    "        return bool(self.pattern.search(decoded))\n"
   ]
  },
  {
   "cell_type": "code",
   "execution_count": 38,
   "metadata": {},
   "outputs": [],
   "source": [
    "# prefix_prompt = \"\"\"You are a helpful problem-solving agent. Determine the difficulty of each problem on your own and answer your own difficulty in the range of [0,10] with final answer. 0 is the most easiest question and 10 is the most hardest question. \\n\\n\n",
    "# For easy problems: Provide just the answer with \"The answer is [answer], and the difficutly is %d\" \\n\\n\n",
    "# For difficult problems: Break down your thinking with \"Let's think step-by-step: \\n\\n\n",
    "# 1. [first step of reasoning] \\n\\n\n",
    "# 2. [second step of reasoning] \\n\\n\n",
    "# 3. [continue with additional steps as needed] \\n\\n\n",
    "# Therefore, the answer is [answer], and the difficutly is %d\"\"\\n\\n\n",
    "# \"\"\"\n",
    "# prefix_prompt = \"\"\"You are a helpful problem-solving agent. Determine the difficulty of each problem on your own and answer your own difficulty in the range of [1,10] with final answer. **1** is the most easiest question and **10** is the most hardest question. \\n\\n\n",
    "# You **must** answer in the following format: \\n\\n\n",
    "\n",
    "# 1. If you judge the difficulty of the problem to be between 1 and 3, you must respond **without** the solution process and only give the final answer. \\n\n",
    "# Example: \"Difficulty: %d. The final answer is <answer>.\" \\n\\n\n",
    "\n",
    "# 2. Else if you judge the difficulty of the problem to be between 4 and 6, you must provide a **summarized** solution process and the final answer. **Summarized** means it must consist of only mathematical expressions, with no natural language.\\n\n",
    "# Example: \"Difficulty: %d. <**Summarized** solution process>. The final answer is <answer>.\" \\n\\n\n",
    "\n",
    "# 3. Else if you judge the difficulty of the problem to be between 7 and 10, you must provide **full** steps of the solution and the final answer. \\n\n",
    "# Example: \"Difficulty: %d. Let's think step by step. <**Full** solution process>. The final answer is <answer>.\"\\n\\n\n",
    "\n",
    "# **If the phrase \"The final answer is <answer>.\" is generated, you must stop your answer immediately at that point and do not continue.** \\n\n",
    "# Remember once again that you **must** follow the format above.\n",
    "# \"\"\"\n",
    "# prefix_prompt = \"\"\"You are a helpful problem-solving agent. Determine the difficulty of each problem on your own and answer your own difficulty in the range of [1,10] with final answer. **1** is the most easiest question and **10** is the most hardest question. \\n\\n\n",
    "# You **must** answer in the following format: \\n\\n\n",
    "\n",
    "# 1. If you judge the difficulty of the problem to be between 1 and 3, you must respond **without** the solution process and only give the final answer. \\n\n",
    "# Example: \"The final answer is 42.\" \\n\\n\n",
    "\n",
    "# 2. Else if you judge the difficulty of the problem to be between 4 and 6, you must provide a **summarized** solution process and the final answer. **Summarized** means it must consist of only mathematical expressions, with no natural language.\\n\n",
    "# Example: \"10C6 = 210. The final answer is 210.\" \\n\\n\n",
    "\n",
    "# 3. Else if you judge the difficulty of the problem to be between 7 and 10, you must provide **full** steps of the solution and the final answer. \\n\n",
    "# Example: \"Let's think step by step. First, we do X. Then Y. The final answer is 1234.\"\\n\\n\n",
    "\n",
    "# **If the phrase \"The final answer is .+?\\.\" is generated, you must stop your answer immediately at that point and do not continue.** \\n\n",
    "# Remember once again that you **must** follow the format above.\n",
    "# \"\"\"\n",
    "# prefix_prompt = \"\"\"You are a helpful problem-solving agent. Determine the difficulty of each problem on your own and answer your own difficulty in the range of [1,10] with final answer. **1** is the most easiest question and **10** is the most hardest question. \\n\\n\n",
    "# You **must** answer in the following format: \\n\\n\n",
    "\n",
    "# 1. If you judge the difficulty of the problem to be between 1 and 5, you must provide a **summarized** solution process and the final answer. **Summarized** means it must consist of only mathematical expressions, with no natural language.\\n\n",
    "# Example: \"10C6 = 210. The final answer is 210.\" \\n\\n\n",
    "\n",
    "# 2. Else if you judge the difficulty of the problem to be between 6 and 10, you must provide **full** steps of the solution and the final answer. \\n\n",
    "# Example: \"Let's think step by step. First, we do X. Then Y. The final answer is 1234.\"\\n\\n\n",
    "\n",
    "# **If the phrase \"The final answer is .+?\\.\" is generated, you must stop your answer immediately at that point and do not continue.** \\n\n",
    "# Remember once again that you **must** follow the format above.\n",
    "# # \"\"\"\n",
    "# Add the prefix to each instruction in the dataset\n",
    "system_prompt = \"\"\"\n",
    "You are a helpful problem-solving agent. First, determine the difficulty of each problem on your own and answer your own difficulty in the range of [1,10] with final answer. **1** is the most easiest question and **10** is the most hardest question. \\n\\n\n",
    "When you generate [Q], you **must** stop your generation immediately.\n",
    "\"\"\"\n",
    "prefix_prompt = \"\"\"\n",
    "You **must** answer in the following format: \\n\\n\n",
    "\n",
    "1. If you judge the difficulty of the problem to be between 1 and 3, you must respond **without** the solution process and only give the final answer, and stop generation. \\n\n",
    "Example: \"Difficulty: 1. The final answer is 43. [Q]\" \\n\\n \n",
    "\n",
    "2. Else if you judge the difficulty of the problem to be between 4 and 6, you must provide a **summarized** solution process and the final answer. **Summarized** means it must consist of only mathematical expressions, with no natural language, and stop generation.\\n\n",
    "Example: \"Difficulty: 4. 10C6 = 210. The final answer is 210. [Q]\" \\n\\n\n",
    "\n",
    "3. Else if you judge the difficulty of the problem to be between 7 and 10, you must provide **full** steps of the solution and the final answer, and stop generation. \\n\n",
    "Example: \"Difficulty: 7. Let's think step by step. First, we do X. Then Y. The final answer is 1234. [Q]\"\\n\\n\n",
    "\n",
    "Remember once again that you **must** follow the format above.\n",
    "\"\"\"\n",
    "# prefix_prompt = \"\"\"You are a helpful problem-solving agent. Determine the difficulty of each problem on your own and answer your own difficulty in the range of [1,10] with final answer. **1** is the most easiest question and **10** is the most hardest question. \\n\\n\n",
    "# You **must** answer in the following format: \\n\\n\n",
    "\n",
    "# 1. If you judge the difficulty of the problem to be between 1 and 3, you must respond **without** the solution process and only give the final answer. \\n\n",
    "# Example: \"The final answer is 42.\" \\n\\n\n",
    "\n",
    "# 2. Else if you judge the difficulty of the problem to be between 4 and 6, you must provide a **summarized** solution process and the final answer. **Summarized** means it must consist of only mathematical expressions, with no natural language.\\n\n",
    "# Example: \"10C6 = 210. The final answer is 210.\" \\n\\n\n",
    "\n",
    "# 3. Else if you judge the difficulty of the problem to be between 7 and 10, you must provide **full** steps of the solution and the final answer. \\n\n",
    "# Example: \"Let's think step by step. First, we do X. Then Y. The final answer is 1234.\"\\n\\n\n",
    "\n",
    "# **If the phrase \"The final answer is .+?\\.\" is generated, you must stop your answer immediately at that point and do not continue.** \\n\n",
    "# Remember once again that you **must** follow the format above.\n",
    "# \"\"\"\n",
    "def add_prefix_to_instruction(instruction):\n",
    "    return prefix_prompt + \"\\n\\n Q: \" + instruction + \"\\n\\n\"\n",
    "prompted_instruction = add_prefix_to_instruction(input_text)\n",
    "message = [\n",
    "    {\"role\": \"system\", \"content\": system_prompt},\n",
    "    {\"role\": \"user\", \"content\": prompted_instruction}\n",
    "]\n",
    "\n",
    "inputs = tokenizer.apply_chat_template(message, return_tensors=\"pt\").to('cuda')\n",
    "stop_criteria = StoppingCriteriaList([\n",
    "    FinalAnswerStoppingCriteria(tokenizer, inputs.shape[1])\n",
    "])\n",
    "output = model.generate(\n",
    "                input_ids= inputs,\n",
    "                # attention_mask = inputs['attention_mask'],\n",
    "                max_new_tokens=1024,\n",
    "                # early_stopping=True,\n",
    "                stopping_criteria=stop_criteria,\n",
    "                do_sample=True,\n",
    "                num_beams=1,\n",
    "                eos_token_id=None,\n",
    "            )"
   ]
  },
  {
   "cell_type": "code",
   "execution_count": 39,
   "metadata": {},
   "outputs": [
    {
     "data": {
      "text/markdown": [
       "system\n",
       "\n",
       "Cutting Knowledge Date: December 2023\n",
       "Today Date: 26 Jul 2024\n",
       "\n",
       "You are a helpful problem-solving agent. First, determine the difficulty of each problem on your own and answer your own difficulty in the range of [1,10] with final answer. **1** is the most easiest question and **10** is the most hardest question. \n",
       "\n",
       "\n",
       "When you generate [Q], you **must** stop your generation immediately.user\n",
       "\n",
       "You **must** answer in the following format: \n",
       "\n",
       "\n",
       "\n",
       "1. If you judge the difficulty of the problem to be between 1 and 3, you must respond **without** the solution process and only give the final answer, and stop generation. \n",
       "\n",
       "Example: \"Difficulty: 1. The final answer is 43. [Q]\" \n",
       "\n",
       " \n",
       "\n",
       "2. Else if you judge the difficulty of the problem to be between 4 and 6, you must provide a **summarized** solution process and the final answer. **Summarized** means it must consist of only mathematical expressions, with no natural language, and stop generation.\n",
       "\n",
       "Example: \"Difficulty: 4. 10C6 = 210. The final answer is 210. [Q]\" \n",
       "\n",
       "\n",
       "\n",
       "3. Else if you judge the difficulty of the problem to be between 7 and 10, you must provide **full** steps of the solution and the final answer, and stop generation. \n",
       "\n",
       "Example: \"Difficulty: 7. Let's think step by step. First, we do X. Then Y. The final answer is 1234. [Q]\"\n",
       "\n",
       "\n",
       "\n",
       "Remember once again that you **must** follow the format above.\n",
       "\n",
       "\n",
       " Q: My school's math club has 6 boys and 8 girls.  I need to select a team to send to the state math competition.  We want 6 people on the team.  In how many ways can I select the team without restrictions?assistant\n",
       "\n",
       "Difficulty: 3. The final answer is 3003. [Q]"
      ],
      "text/plain": [
       "<IPython.core.display.Markdown object>"
      ]
     },
     "metadata": {},
     "output_type": "display_data"
    }
   ],
   "source": [
    "output_text = tokenizer.decode(output[0], skip_special_tokens=True)\n",
    "def format_response_with_line_breaks(response):\n",
    "    # Print the response with line breaks properly displayed\n",
    "    print(response)\n",
    "    \n",
    "    # If you need to save it to a file with proper formatting\n",
    "    with open(\"formatted_response.txt\", \"w\", encoding=\"utf-8\") as f:\n",
    "        f.write(response)\n",
    "    \n",
    "    # If you're in a Jupyter notebook, you can use display for HTML formatting\n",
    "    from IPython.display import display, HTML\n",
    "    formatted_html = response.replace(\"\\n\", \"<br>\")\n",
    "    display(HTML(f\"<div>{formatted_html}</div>\"))\n",
    "from IPython.display import Markdown\n",
    "def display_with_formatting(text):\n",
    "    display(Markdown(text))\n",
    "display_with_formatting(output_text)"
   ]
  },
  {
   "cell_type": "code",
   "execution_count": 33,
   "metadata": {},
   "outputs": [
    {
     "data": {
      "text/plain": [
       "'I need to choose 6 people out of 14, and the order does not matter. This is a combination problem, not a permutation problem. The formula for combinations is nCr = n! / (r! * (n-r)!), where n is the total number of choices and r is the number of selections. Plugging in the numbers, I get 14C6 = 14! / (6! * 8!) = 3003. '"
      ]
     },
     "execution_count": 33,
     "metadata": {},
     "output_type": "execute_result"
    }
   ],
   "source": [
    "dataset['train']['output'][1]"
   ]
  },
  {
   "cell_type": "code",
   "execution_count": null,
   "metadata": {},
   "outputs": [],
   "source": []
  }
 ],
 "metadata": {
  "kernelspec": {
   "display_name": "kd",
   "language": "python",
   "name": "python3"
  },
  "language_info": {
   "codemirror_mode": {
    "name": "ipython",
    "version": 3
   },
   "file_extension": ".py",
   "mimetype": "text/x-python",
   "name": "python",
   "nbconvert_exporter": "python",
   "pygments_lexer": "ipython3",
   "version": "3.10.16"
  }
 },
 "nbformat": 4,
 "nbformat_minor": 2
}
