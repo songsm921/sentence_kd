{
 "cells": [
  {
   "cell_type": "code",
   "execution_count": 3,
   "metadata": {},
   "outputs": [
    {
     "name": "stderr",
     "output_type": "stream",
     "text": [
      "/root/anaconda3/envs/kd/lib/python3.10/site-packages/tqdm/auto.py:21: TqdmWarning: IProgress not found. Please update jupyter and ipywidgets. See https://ipywidgets.readthedocs.io/en/stable/user_install.html\n",
      "  from .autonotebook import tqdm as notebook_tqdm\n"
     ]
    }
   ],
   "source": [
    "import transformers\n",
    "from datasets import load_dataset"
   ]
  },
  {
   "cell_type": "code",
   "execution_count": 33,
   "metadata": {},
   "outputs": [],
   "source": [
    "dataset = load_dataset(\"garage-bAInd/Open-Platypus\")\n"
   ]
  },
  {
   "cell_type": "code",
   "execution_count": 34,
   "metadata": {},
   "outputs": [],
   "source": [
    "average_token_length_insturctions = sum([len(x.split()) for x in dataset['train']['instruction']]) / len(dataset['train']['instruction'])\n",
    "average_token_length_output = sum([len(x.split()) for x in dataset['train']['output']]) / len(dataset['train']['output'])\n",
    "max_token_length_insturctions = max([len(x.split()) for x in dataset['train']['instruction']])\n",
    "max_token_length_output = max([len(x.split()) for x in dataset['train']['output']])"
   ]
  },
  {
   "cell_type": "code",
   "execution_count": 35,
   "metadata": {},
   "outputs": [
    {
     "data": {
      "text/plain": [
       "(88.72743320227875, 106.86451897616946)"
      ]
     },
     "execution_count": 35,
     "metadata": {},
     "output_type": "execute_result"
    }
   ],
   "source": [
    "average_token_length_insturctions, average_token_length_output"
   ]
  },
  {
   "cell_type": "code",
   "execution_count": 36,
   "metadata": {},
   "outputs": [
    {
     "data": {
      "text/plain": [
       "(1640, 1547)"
      ]
     },
     "execution_count": 36,
     "metadata": {},
     "output_type": "execute_result"
    }
   ],
   "source": [
    "max_token_length_insturctions, max_token_length_output"
   ]
  },
  {
   "cell_type": "code",
   "execution_count": 2,
   "metadata": {},
   "outputs": [],
   "source": [
    "dataset = load_dataset(\"Maxwell-Jia/AIME_2024\")"
   ]
  },
  {
   "cell_type": "code",
   "execution_count": 38,
   "metadata": {},
   "outputs": [],
   "source": [
    "average_token_length_insturctions = sum([len(x.split()) for x in dataset['train']['Problem']]) / len(dataset['train']['Problem'])\n",
    "average_token_length_output = sum([len(x.split()) for x in dataset['train']['Solution']]) / len(dataset['train']['Solution'])\n",
    "max_token_length_insturctions = max([len(x.split()) for x in dataset['train']['Problem']])\n",
    "max_token_length_output = max([len(x.split()) for x in dataset['train']['Solution']])"
   ]
  },
  {
   "cell_type": "code",
   "execution_count": 39,
   "metadata": {},
   "outputs": [
    {
     "data": {
      "text/plain": [
       "(55.666666666666664, 209.36666666666667)"
      ]
     },
     "execution_count": 39,
     "metadata": {},
     "output_type": "execute_result"
    }
   ],
   "source": [
    "average_token_length_insturctions, average_token_length_output"
   ]
  },
  {
   "cell_type": "code",
   "execution_count": 40,
   "metadata": {},
   "outputs": [
    {
     "data": {
      "text/plain": [
       "(129, 745)"
      ]
     },
     "execution_count": 40,
     "metadata": {},
     "output_type": "execute_result"
    }
   ],
   "source": [
    "max_token_length_insturctions, max_token_length_output"
   ]
  },
  {
   "cell_type": "code",
   "execution_count": 41,
   "metadata": {},
   "outputs": [],
   "source": [
    "dataset = load_dataset(\"HuggingFaceH4/MATH-500\")\n",
    "average_token_length_insturctions = sum([len(x.split()) for x in dataset['test']['problem']]) / len(dataset['test']['problem'])\n",
    "average_token_length_output = sum([len(x.split()) for x in dataset['test']['solution']]) / len(dataset['test']['solution'])\n",
    "max_token_length_insturctions = max([len(x.split()) for x in dataset['test']['problem']])\n",
    "max_token_length_output = max([len(x.split()) for x in dataset['test']['solution']])"
   ]
  },
  {
   "cell_type": "code",
   "execution_count": 42,
   "metadata": {},
   "outputs": [
    {
     "data": {
      "text/plain": [
       "(31.504, 86.794)"
      ]
     },
     "execution_count": 42,
     "metadata": {},
     "output_type": "execute_result"
    }
   ],
   "source": [
    "average_token_length_insturctions, average_token_length_output"
   ]
  },
  {
   "cell_type": "code",
   "execution_count": 43,
   "metadata": {},
   "outputs": [
    {
     "data": {
      "text/plain": [
       "(206, 487)"
      ]
     },
     "execution_count": 43,
     "metadata": {},
     "output_type": "execute_result"
    }
   ],
   "source": [
    "max_token_length_insturctions, max_token_length_output"
   ]
  }
 ],
 "metadata": {
  "kernelspec": {
   "display_name": "kd",
   "language": "python",
   "name": "python3"
  },
  "language_info": {
   "codemirror_mode": {
    "name": "ipython",
    "version": 3
   },
   "file_extension": ".py",
   "mimetype": "text/x-python",
   "name": "python",
   "nbconvert_exporter": "python",
   "pygments_lexer": "ipython3",
   "version": "3.10.16"
  }
 },
 "nbformat": 4,
 "nbformat_minor": 2
}
